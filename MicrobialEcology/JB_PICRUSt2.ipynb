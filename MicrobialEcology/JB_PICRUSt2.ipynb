{
  "nbformat": 4,
  "nbformat_minor": 0,
  "metadata": {
    "colab": {
      "name": "JB_PICRUSt2.ipynb",
      "provenance": []
    },
    "kernelspec": {
      "name": "python3",
      "display_name": "Python 3"
    },
    "language_info": {
      "name": "python"
    }
  },
  "cells": [
    {
      "cell_type": "code",
      "metadata": {
        "id": "Wnlsl7imA6-_"
      },
      "source": [
        "#Exporting seqs and feature table for picrust2\n",
        "qiime tools export --input-path '/home/fortino/Desktop/JB2020/dada2-seqs1.qza' --output-path Desktop/JB2020/exportRepSeqs.fna\n",
        "\n",
        "qiime tools export --input-path '/home/fortino/Desktop/JB2020/table1-dada2.qza' --output-path '/home/fortino/Desktop/JB2020/exportRepSeqs.fna'\n",
        "\n",
        "#Full Picrust2 pipeline\n",
        "picrust2_pipeline.py -s '/home/fortino/Desktop/JB2020/exportRepSeqs.fna/dna-sequences.fasta' -i '/home/fortino/Desktop/JB2020/exportRepSeqs.fna/feature-table.biom' -o Desktop/JB2020/PiCrust2data -p 4\n",
        "\n",
        "#85 of 1228 ASVs were above the max NSTI cut-off of 2.0 and were removed.\n",
        "\n",
        "\n",
        "\n",
        "#add functional descriptions\n",
        "add_descriptions.py -i '/home/fortino/Desktop/JB2020/PiCrust2data/EC_metagenome_out/pred_metagenome_unstrat.tsv.gz' -m EC -o Desktop/JB2020/PiCrust2data/LabeledData/pred_metagenome_unstrat_des.tsv\n",
        "\n",
        "add_descriptions.py -i \n",
        "'/home/fortino/Desktop/JB2020/PiCrust2data/pathways_out/path_abun_unstrat.tsv.gz' -m METACYC -o Desktop/JB2020/PiCrust2data/LabeledData/path_abun_unstrat_des.tsv\n"
      ],
      "execution_count": null,
      "outputs": []
    }
  ]
}
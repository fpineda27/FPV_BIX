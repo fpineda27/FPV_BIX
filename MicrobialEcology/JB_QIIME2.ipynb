{
  "nbformat": 4,
  "nbformat_minor": 0,
  "metadata": {
    "colab": {
      "name": "JB_QIIME2.ipynb",
      "provenance": []
    },
    "kernelspec": {
      "name": "python3",
      "display_name": "Python 3"
    },
    "language_info": {
      "name": "python"
    }
  },
  "cells": [
    {
      "cell_type": "code",
      "metadata": {
        "id": "Azrnbih5pKvO"
      },
      "source": [
        "#activate qiime2 environment\n",
        "conda activate qiime2-2019.10"
      ],
      "execution_count": null,
      "outputs": []
    },
    {
      "cell_type": "code",
      "metadata": {
        "id": "Dc-S_TtKs5K4"
      },
      "source": [
        "#Convert fasta and qual files into fastq \n",
        "convert_fastaqual_fastq.py -f JB2020/091416TM1-full.fasta  -q JB2020/091416TM1-full.qual -o fastq_files/"
      ],
      "execution_count": null,
      "outputs": []
    },
    {
      "cell_type": "code",
      "metadata": {
        "id": "QahMoXXWs-T_"
      },
      "source": [
        "#Extract barcodes (gzip the output files in folder and rename files into “sequences.fastq.gz” and “barcodes.fastq.gz”)\n",
        "extract_barcodes.py -f JB2020/091416TM1-full.fastq.gz -c barcode_single_end -l 8 -o barcodes/\n"
      ],
      "execution_count": null,
      "outputs": []
    },
    {
      "cell_type": "code",
      "metadata": {
        "id": "ifKmWqA0tJYo"
      },
      "source": [
        "#Rename reads to sequences and gzip\n",
        "gzip Desktop/JB2020/091416/sequences.gz\n",
        "gzip Desktop/JB2020/091416/barcodes.gz"
      ],
      "execution_count": null,
      "outputs": []
    },
    {
      "cell_type": "code",
      "metadata": {
        "id": "IaIafEf5uBlw"
      },
      "source": [
        "#Validate Metadata file\n",
        "#validate using Keemei google sheet plug-in and download as tsv file\n"
      ],
      "execution_count": null,
      "outputs": []
    },
    {
      "cell_type": "code",
      "metadata": {
        "id": "HLU4fYcsuUct"
      },
      "source": [
        "#import sequences (converts file to Qiime2 artifact .qza type). EMPSingleEndSequences\n",
        "qiime tools import  --type EMPSingleEndSequences  --input-path 091416/ --output-path 091416.qza\n"
      ],
      "execution_count": null,
      "outputs": []
    },
    {
      "cell_type": "code",
      "metadata": {
        "id": "JXvZy-NluuUt"
      },
      "source": [
        "#demultiplexing data with metadata file (no golay errors due barcode format) \n",
        "qiime demux emp-single --i-seqs jb2020.qza --m-barcodes-file JBmetadata091416.tsv --m-barcodes-column BarcodeSequence --o-per-sample-sequences demuxJB.qza --o-error-correction-details errors.qza --p-no-golay-error-correction\n"
      ],
      "execution_count": null,
      "outputs": []
    },
    {
      "cell_type": "code",
      "metadata": {
        "id": "i6pBKjZmyZvJ"
      },
      "source": [
        "#visualize the demultiplexed data per sample set (set denoise truncation) \n",
        "qiime demux summarize --i-data demuxJB.qza --o-visualization demuxJB.qzv\n"
      ],
      "execution_count": null,
      "outputs": []
    },
    {
      "cell_type": "code",
      "metadata": {
        "id": "16R8N-r_yloC"
      },
      "source": [
        "#truncated at positions 293 and 480 to maintain higher quality samples (>20)--lower whisker of 293 is 18 = ~ <1% error rate\n",
        "#Random 10,000 sampleing without replacement loses many reads. Elected to retain lower ~10% low-quality sequences due to lost data (91% of left trim abides by 20 quality score, lowest of 18)\n"
      ],
      "execution_count": null,
      "outputs": []
    },
    {
      "cell_type": "code",
      "metadata": {
        "id": "0dJk_1hCzayC"
      },
      "source": [
        "#DADA2 denoise (fixes amplicon errors instead of deleting them) \n",
        "qiime dada2 denoise-single --i-demultiplexed-seqs demuxJB.qza --p-trim-left 293 --p-trunc-len 480 --o-representative-sequences dada2-seqs.qza --o-table table-dada2.qza --o-denoising-stats stats-dada2.qza \n"
      ],
      "execution_count": null,
      "outputs": []
    },
    {
      "cell_type": "code",
      "metadata": {
        "id": "D8XTSJnazjRv"
      },
      "source": [
        "#Visualize Truncation \n",
        "qiime metadata tabulate --m-input-file stats-dada2.qza --o-visualization stats-dada2.qzv\n"
      ],
      "execution_count": null,
      "outputs": []
    },
    {
      "cell_type": "code",
      "metadata": {
        "id": "o1WYtGV2z7AD"
      },
      "source": [
        "#Creates table of features per sample\n",
        "qiime feature-table summarize --i-table table-dada2.qza --o-visualization table-dada2.qzv --m-sample-metadata-file JBmetadata091416.tsv \n"
      ],
      "execution_count": null,
      "outputs": []
    },
    {
      "cell_type": "code",
      "metadata": {
        "id": "8thRyemr0MU0"
      },
      "source": [
        "#generates sampling depth in an interactive table. Sampling depth: 94000. retained most features in all samples (69.17%)\n",
        "qiime feature-table tabulate-seqs --i-data dada2-seqs.qza --o-visualization rep-dada2seqs.qzv\n"
      ],
      "execution_count": null,
      "outputs": []
    },
    {
      "cell_type": "code",
      "metadata": {
        "id": "QBA1Y4GI1Sx7"
      },
      "source": [
        "#Phylogenetic Analysis via high speed multiple sequence alignment\n",
        "qiime phylogeny align-to-tree-mafft-fasttree --i-sequences dada2-seqs.qza --o-alignment aligned-rep-seqs.qza --o-masked-alignment masked-rep-set.qza --o-tree unrooted-tree.qza --o-rooted-tree rooted-tree.qza\n"
      ],
      "execution_count": null,
      "outputs": []
    },
    {
      "cell_type": "code",
      "metadata": {
        "id": "G0zfM4Fp1prD"
      },
      "source": [
        "#Alpha and Beta  Diversity (94,000 sampling depth)\n",
        "qiime diversity core-metrics-phylogenetic --i-phylogeny phylo/rooted-tree.qza --i-table table-dada2.qza --p-sampling-depth 94000 --m-metadata-file JBmetadataCat.tsv --output-dir core-diversity-results\n"
      ],
      "execution_count": null,
      "outputs": []
    },
    {
      "cell_type": "code",
      "metadata": {
        "id": "iDQbo0bZ10QD"
      },
      "source": [
        "#Visualizes alpha diversity\n",
        "qiime diversity alpha-group-significance --i-alpha-diversity core-diversity-results/faith_pd_vector.qza --m-metadata-file JBmetadataCat.tsv --o-visualization core-diversity-results/faith_pd_group_significance.qzv \n"
      ],
      "execution_count": null,
      "outputs": []
    },
    {
      "cell_type": "code",
      "metadata": {
        "id": "fFirpMU73Ok_"
      },
      "source": [
        "qiime diversity alpha-group-significance --i-alpha-diversity core-diversity-results/evenness_vector.qza --m-metadata-file JBmetadataCat.tsv --o-visualization core-diversity-results/evenness-group-significance.qzv "
      ],
      "execution_count": null,
      "outputs": []
    },
    {
      "cell_type": "code",
      "metadata": {
        "id": "sJxLKGV-3TOq"
      },
      "source": [
        "#Visualizes beta diversity \n",
        "qiime diversity beta-group-significance --i-distance-matrix core-diversity-results/weighted_unifrac_distance_matrix.qza --m-metadata-file JBmetadataCat.tsv --m-metadata-column Categorical --o-visualization core-diversity-results/weighted_unifrac_project_singificance.qzv --p-pairwise \n"
      ],
      "execution_count": null,
      "outputs": []
    },
    {
      "cell_type": "code",
      "metadata": {
        "id": "epPaGFKR3gFC"
      },
      "source": [
        "#Rarefraction Plot \n",
        "qiime diversity alpha-rarefaction --i-table table-dada2.qza --i-phylogeny phylo/rooted-tree.qza --p-max-depth 94000 --m-metadata-file JBmetadataCat.tsv --o-visualization alpha-rarefraction.qzv \n"
      ],
      "execution_count": null,
      "outputs": []
    },
    {
      "cell_type": "code",
      "metadata": {
        "id": "-NqkcFpk4ePX"
      },
      "source": [
        "#Set up SILVA rRNA database classifier for taxonomic analysis, Version: SILVA 128 97% OTUs\n",
        "#Importing 97% otus\n",
        "qiime tools import --type 'FeatureData[Sequence]' --input-path '/home/qiime/Desktop/JB2020/Reiteration2/SSUdivers/Silva_128_release (1)/SILVA_128_QIIME_release/rep_set/rep_set_16S_only/97/97_otus_16S.fasta' --output-path SSUdivers/97otus_16s.qza\n"
      ],
      "execution_count": null,
      "outputs": []
    },
    {
      "cell_type": "code",
      "metadata": {
        "id": "-OARev1B-2Gi"
      },
      "source": [
        "#Importing Taxonomy classification\n",
        "qiime tools import --type 'FeatureData[Taxonomy]' --input-format HeaderlessTSVTaxonomyFormat --input-path '/home/qiime/Desktop/JB2020/Reiteration2/SSUdivers/Silva_128_release (1)/SILVA_128_QIIME_release/taxonomy/16S_only/97/consensus_taxonomy_7_levels.txt'  \n",
        "--output-path SSUdivers/97ref_taxonomy.qza\n",
        "\n",
        "#Extract 515F/806R primers of V3-V4 region\n",
        "qiime feature-classifier extract-reads --i-sequences SSUdivers/97otus_16s.qza --p-f-primer GTGCCAGCMGCCGCGGTAA --p-r-primer GGACTACHVGGGTWTCTAAT --p-trunc-len 100 --o-reads SSUdivers/97ref-seqs.qza\n",
        "\n"
      ],
      "execution_count": null,
      "outputs": []
    },
    {
      "cell_type": "code",
      "metadata": {
        "id": "7qnBECq_-6UY"
      },
      "source": [
        "#Taxonomic Analysis Using Silva SU classifier for 97% OTUs\n",
        "qiime feature-classifier classify-sklearn --i-classifier SSUdivers/classifier.qza --i-reads dada2-seqs.qza --o-classification SSUdivers/97taxonomy.qza\n",
        "\n",
        "\n",
        "qiime metadata tabulate --m-input-file SSUdivers/97taxonomy.qza --o-visualization SSUdivers/taxonomy.qzv\n"
      ],
      "execution_count": null,
      "outputs": []
    },
    {
      "cell_type": "code",
      "metadata": {
        "id": "oKhgHqAf_NZt"
      },
      "source": [
        "#Taxa bar plots\n",
        "qiime taxa barplot --i-table table-dada2.qza --i-taxonomy core-diversity-results/taxonomy.qza --m-metadata-file JBmetadata091416.tsv --o-visualization core-diversity-results/taxa-bar-plots.qzv\n"
      ],
      "execution_count": null,
      "outputs": []
    }
  ]
}
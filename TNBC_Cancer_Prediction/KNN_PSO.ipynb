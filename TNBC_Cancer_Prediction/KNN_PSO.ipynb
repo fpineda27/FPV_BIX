{
  "nbformat": 4,
  "nbformat_minor": 0,
  "metadata": {
    "colab": {
      "name": "KNN_PSO.ipynb",
      "provenance": [],
      "collapsed_sections": [],
      "machine_shape": "hm"
    },
    "kernelspec": {
      "name": "python3",
      "display_name": "Python 3"
    },
    "language_info": {
      "name": "python"
    }
  },
  "cells": [
    {
      "cell_type": "code",
      "metadata": {
        "colab": {
          "base_uri": "https://localhost:8080/"
        },
        "id": "FcS8eT3cJtYb",
        "outputId": "35d30b11-1267-4fcc-f93f-ce11f3985add"
      },
      "source": [
        "from google.colab import drive\n",
        "drive.mount('/content/drive')"
      ],
      "execution_count": 4,
      "outputs": [
        {
          "output_type": "stream",
          "text": [
            "Drive already mounted at /content/drive; to attempt to forcibly remount, call drive.mount(\"/content/drive\", force_remount=True).\n"
          ],
          "name": "stdout"
        }
      ]
    },
    {
      "cell_type": "code",
      "metadata": {
        "id": "Lpx7b8NVI80W"
      },
      "source": [
        "import numpy as np\n",
        "import pandas as pd\n",
        "from sklearn import model_selection, metrics\n",
        "from sklearn.metrics import make_scorer, accuracy_score, precision_score, recall_score, f1_score\n",
        "from sklearn.model_selection import train_test_split, cross_val_score, cross_validate\n",
        "from sklearn.preprocessing import MinMaxScaler\n",
        "from sklearn.preprocessing import LabelEncoder\n",
        "from sklearn.neighbors import NearestNeighbors, KNeighborsClassifier\n",
        "from keras.models import load_model"
      ],
      "execution_count": 5,
      "outputs": []
    },
    {
      "cell_type": "code",
      "metadata": {
        "colab": {
          "base_uri": "https://localhost:8080/"
        },
        "id": "9HVV9GLhJEfX",
        "outputId": "ec468550-e5f0-4aaf-ef91-09c1a6b68501"
      },
      "source": [
        "#import CSV to be read as a pandas dataframe\n",
        "data = pd.read_csv('/content/drive/MyDrive/Colab Notebooks/output_pso_feature_reduction.csv', header = 0)\n",
        "\n",
        "\n",
        "\n",
        "#encode categorical variables to numerical\n",
        "labelenc = LabelEncoder()\n",
        "data['Class'] = labelenc.fit_transform(data['Class'])\n",
        "data['Sample-id'] = labelenc.fit_transform(data['Sample-id'])\n",
        "\n",
        "print(data)\n",
        "\n",
        "#get labels from original data and use encoded data as x\n",
        "x = data\n",
        "y = data['Class']\n",
        "\n",
        "print(x.shape)\n",
        "print(y.shape)"
      ],
      "execution_count": 6,
      "outputs": [
        {
          "output_type": "stream",
          "text": [
            "      Sample-id  Class  ?|100130426  ...  ZZZ3|26009  psiTPTE22|387590  tAKR|389932\n",
            "0             0      2       0.0000  ...   1180.4565            1.7233       0.0000\n",
            "1             1      2       0.0000  ...    406.7428          926.5905       0.0000\n",
            "2             2      2       0.9066  ...    509.5195           35.3581       0.0000\n",
            "3             3      2       0.0000  ...    700.8688           66.6115       0.0000\n",
            "4             4      2       0.0000  ...    881.7021          187.2340       0.0000\n",
            "...         ...    ...          ...  ...         ...               ...          ...\n",
            "1090       1090      2       0.0000  ...    443.0869          724.9033       0.0000\n",
            "1091       1091      2       0.0000  ...    670.0787           98.4252       0.0000\n",
            "1092       1092      2       0.0000  ...    953.7081          235.2385       0.9447\n",
            "1093       1093      2       0.0000  ...    750.8288          238.9272       0.0000\n",
            "1094       1094      2       0.0000  ...    462.1140           20.8786       0.0000\n",
            "\n",
            "[1095 rows x 12463 columns]\n",
            "(1095, 12463)\n",
            "(1095,)\n"
          ],
          "name": "stdout"
        }
      ]
    },
    {
      "cell_type": "code",
      "metadata": {
        "colab": {
          "base_uri": "https://localhost:8080/"
        },
        "id": "YAg_Jl6vJ481",
        "outputId": "780c017e-3c29-4c6e-b658-279729f9b3d8"
      },
      "source": [
        "#divide into train and test set\n",
        "x_train, x_test, y_train, y_test = train_test_split(x, y, test_size = 0.2)\n",
        "\n",
        "print(x_train.shape)\n",
        "print(x_test.shape)\n",
        "print(y_train.shape)\n",
        "print(y_test.shape)"
      ],
      "execution_count": 7,
      "outputs": [
        {
          "output_type": "stream",
          "text": [
            "(876, 12463)\n",
            "(219, 12463)\n",
            "(876,)\n",
            "(219,)\n"
          ],
          "name": "stdout"
        }
      ]
    },
    {
      "cell_type": "code",
      "metadata": {
        "id": "6wbV1HHfQQQ4"
      },
      "source": [
        "#scale data & normalize\n",
        "t = MinMaxScaler()\n",
        "t.fit(x_train)\n",
        "t.fit(x_test)\n",
        "\n",
        "x_train = t.transform(x_train)\n",
        "x_test = t.transform(x_test)"
      ],
      "execution_count": 8,
      "outputs": []
    },
    {
      "cell_type": "code",
      "metadata": {
        "id": "p2uAYRYBJL0B"
      },
      "source": [
        "#set classifier to vote of 3 neighbors, weighted by distance from k\n",
        "knn = KNeighborsClassifier(n_neighbors=5, weights='distance')\n"
      ],
      "execution_count": 9,
      "outputs": []
    },
    {
      "cell_type": "code",
      "metadata": {
        "colab": {
          "base_uri": "https://localhost:8080/"
        },
        "id": "HL-t1UCbaeSe",
        "outputId": "75d7620c-3a9e-4f2c-f0bb-2af6b9c75fb5"
      },
      "source": [
        "#Gets validations stats iterated from every fold \n",
        "pred_dict = []\n",
        "def cscorer(clf, x, y):\n",
        "  y_pred = clf.predict(x)\n",
        "  metric = metrics.classification_report(y, y_pred)\n",
        "  pred_dict.append(metric)\n",
        "  return 1\n",
        "\n",
        "all_pred = cross_val_score(knn, x, y, cv=5, scoring= cscorer)\n",
        "\n",
        "\n",
        "for i in pred_dict:\n",
        "  print('5-fold cross validation accuracies are: ')\n",
        "  print(i)"
      ],
      "execution_count": 10,
      "outputs": [
        {
          "output_type": "stream",
          "text": [
            "5-fold cross validation accuracies are: \n",
            "              precision    recall  f1-score   support\n",
            "\n",
            "           0       0.81      1.00      0.90        22\n",
            "           1       0.67      0.61      0.64        23\n",
            "           2       0.95      0.94      0.94       174\n",
            "\n",
            "    accuracy                           0.91       219\n",
            "   macro avg       0.81      0.85      0.83       219\n",
            "weighted avg       0.91      0.91      0.91       219\n",
            "\n",
            "5-fold cross validation accuracies are: \n",
            "              precision    recall  f1-score   support\n",
            "\n",
            "           0       0.92      1.00      0.96        22\n",
            "           1       0.70      0.70      0.70        23\n",
            "           2       0.96      0.95      0.95       174\n",
            "\n",
            "    accuracy                           0.93       219\n",
            "   macro avg       0.86      0.88      0.87       219\n",
            "weighted avg       0.93      0.93      0.93       219\n",
            "\n",
            "5-fold cross validation accuracies are: \n",
            "              precision    recall  f1-score   support\n",
            "\n",
            "           0       0.79      1.00      0.88        22\n",
            "           1       0.78      0.58      0.67        24\n",
            "           2       0.95      0.95      0.95       173\n",
            "\n",
            "    accuracy                           0.91       219\n",
            "   macro avg       0.84      0.84      0.83       219\n",
            "weighted avg       0.91      0.91      0.91       219\n",
            "\n",
            "5-fold cross validation accuracies are: \n",
            "              precision    recall  f1-score   support\n",
            "\n",
            "           0       0.88      0.96      0.92        23\n",
            "           1       0.64      0.39      0.49        23\n",
            "           2       0.93      0.97      0.95       173\n",
            "\n",
            "    accuracy                           0.90       219\n",
            "   macro avg       0.82      0.77      0.78       219\n",
            "weighted avg       0.89      0.90      0.89       219\n",
            "\n",
            "5-fold cross validation accuracies are: \n",
            "              precision    recall  f1-score   support\n",
            "\n",
            "           0       0.84      0.91      0.87        23\n",
            "           1       0.57      0.52      0.55        23\n",
            "           2       0.94      0.94      0.94       173\n",
            "\n",
            "    accuracy                           0.89       219\n",
            "   macro avg       0.78      0.79      0.79       219\n",
            "weighted avg       0.89      0.89      0.89       219\n",
            "\n"
          ],
          "name": "stdout"
        }
      ]
    }
  ]
}
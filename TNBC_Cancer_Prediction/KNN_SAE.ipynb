{
  "nbformat": 4,
  "nbformat_minor": 0,
  "metadata": {
    "colab": {
      "name": "KNN_SAE.ipynb",
      "provenance": [],
      "collapsed_sections": [],
      "machine_shape": "hm"
    },
    "kernelspec": {
      "name": "python3",
      "display_name": "Python 3"
    },
    "language_info": {
      "name": "python"
    }
  },
  "cells": [
    {
      "cell_type": "code",
      "metadata": {
        "colab": {
          "base_uri": "https://localhost:8080/"
        },
        "id": "FcS8eT3cJtYb",
        "outputId": "f318cd18-5b25-491e-fee2-6907a73dcb35"
      },
      "source": [
        "from google.colab import drive\n",
        "drive.mount('/content/drive')"
      ],
      "execution_count": 1,
      "outputs": [
        {
          "output_type": "stream",
          "text": [
            "Mounted at /content/drive\n"
          ],
          "name": "stdout"
        }
      ]
    },
    {
      "cell_type": "code",
      "metadata": {
        "id": "Lpx7b8NVI80W"
      },
      "source": [
        "import numpy as np\n",
        "import pandas as pd\n",
        "from sklearn import model_selection, metrics\n",
        "from sklearn.metrics import make_scorer, accuracy_score, precision_score, recall_score, f1_score\n",
        "from sklearn.model_selection import train_test_split, cross_val_score, cross_validate\n",
        "from sklearn.preprocessing import MinMaxScaler\n",
        "from sklearn.preprocessing import LabelEncoder\n",
        "from sklearn.neighbors import NearestNeighbors, KNeighborsClassifier\n",
        "from keras.models import load_model"
      ],
      "execution_count": 2,
      "outputs": []
    },
    {
      "cell_type": "code",
      "metadata": {
        "colab": {
          "base_uri": "https://localhost:8080/"
        },
        "id": "5VOEz4019xsb",
        "outputId": "5fd23ee8-af9c-4597-c298-0c5006352f61"
      },
      "source": [
        "#import CSV to be read as a pandas dataframe\n",
        "labels = pd.read_csv('/content/drive/MyDrive/Preprocessed_BRCA_RNA_data_normalized.csv', header = 0)\n",
        "data = pd.read_csv('/content/drive/MyDrive/Colab Notebooks/Encoded_SDAEdata.csv', header = None)\n",
        "\n",
        "\n",
        "#encode categorical variables to numerical\n",
        "labelenc = LabelEncoder()\n",
        "labels['Class'] = labelenc.fit_transform(labels['Class'])\n",
        "\n",
        "print(data)\n",
        "\n",
        "#get labels from original data and use encoded data as x\n",
        "x = data\n",
        "y = labels['Class']\n",
        "print(y)\n",
        "\n",
        "print(x.shape)\n",
        "print(y.shape)"
      ],
      "execution_count": 3,
      "outputs": [
        {
          "output_type": "stream",
          "text": [
            "      0           1     2     3     4     ...  7995  7996  7997  7998        7999\n",
            "0      0.0  35495720.0   0.0   0.0   0.0  ...   0.0   0.0   0.0   0.0  21416834.0\n",
            "1      0.0  36778148.0   0.0   0.0   0.0  ...   0.0   0.0   0.0   0.0  22191268.0\n",
            "2      0.0  36375916.0   0.0   0.0   0.0  ...   0.0   0.0   0.0   0.0  21948170.0\n",
            "3      0.0  40094680.0   0.0   0.0   0.0  ...   0.0   0.0   0.0   0.0  24193660.0\n",
            "4      0.0  38642548.0   0.0   0.0   0.0  ...   0.0   0.0   0.0   0.0  23317530.0\n",
            "...    ...         ...   ...   ...   ...  ...   ...   ...   ...   ...         ...\n",
            "1090   0.0  38656424.0   0.0   0.0   0.0  ...   0.0   0.0   0.0   0.0  23324048.0\n",
            "1091   0.0  36256928.0   0.0   0.0   0.0  ...   0.0   0.0   0.0   0.0  21876094.0\n",
            "1092   0.0  39195424.0   0.0   0.0   0.0  ...   0.0   0.0   0.0   0.0  23651812.0\n",
            "1093   0.0  39822172.0   0.0   0.0   0.0  ...   0.0   0.0   0.0   0.0  24026824.0\n",
            "1094   0.0  36898480.0   0.0   0.0   0.0  ...   0.0   0.0   0.0   0.0  22263468.0\n",
            "\n",
            "[1095 rows x 8000 columns]\n",
            "0       2\n",
            "1       2\n",
            "2       2\n",
            "3       2\n",
            "4       2\n",
            "       ..\n",
            "1090    2\n",
            "1091    2\n",
            "1092    2\n",
            "1093    2\n",
            "1094    2\n",
            "Name: Class, Length: 1095, dtype: int64\n",
            "(1095, 8000)\n",
            "(1095,)\n"
          ],
          "name": "stdout"
        }
      ]
    },
    {
      "cell_type": "code",
      "metadata": {
        "colab": {
          "base_uri": "https://localhost:8080/"
        },
        "id": "YAg_Jl6vJ481",
        "outputId": "bc870e3b-70c1-455e-d89f-243b9d162df7"
      },
      "source": [
        "#divide into train and test set\n",
        "x_train, x_test, y_train, y_test = train_test_split(x, y, test_size = 0.2)\n",
        "\n",
        "print(x_train.shape)\n",
        "print(x_test.shape)\n",
        "print(y_train.shape)\n",
        "print(y_test.shape)"
      ],
      "execution_count": 4,
      "outputs": [
        {
          "output_type": "stream",
          "text": [
            "(876, 8000)\n",
            "(219, 8000)\n",
            "(876,)\n",
            "(219,)\n"
          ],
          "name": "stdout"
        }
      ]
    },
    {
      "cell_type": "code",
      "metadata": {
        "id": "6wbV1HHfQQQ4"
      },
      "source": [
        "#scale data & normalize\n",
        "t = MinMaxScaler()\n",
        "t.fit(x_train)\n",
        "t.fit(x_test)\n",
        "\n",
        "x_train = t.transform(x_train)\n",
        "x_test = t.transform(x_test)"
      ],
      "execution_count": 5,
      "outputs": []
    },
    {
      "cell_type": "code",
      "metadata": {
        "id": "p2uAYRYBJL0B"
      },
      "source": [
        "#set classifier to vote of 3 neighbors, weighted by distance from k\n",
        "knn = KNeighborsClassifier(n_neighbors=5, weights='distance')\n"
      ],
      "execution_count": 6,
      "outputs": []
    },
    {
      "cell_type": "code",
      "metadata": {
        "colab": {
          "base_uri": "https://localhost:8080/"
        },
        "id": "3Vjca6X7Ro9S",
        "outputId": "572fbc5f-2d06-48d5-b2ce-b3df4fca3df6"
      },
      "source": [
        "#Gets validations stats iterated from every fold \n",
        "pred_dict = []\n",
        "def cscorer(clf, x, y):\n",
        "  y_pred = clf.predict(x)\n",
        "  metric = metrics.classification_report(y, y_pred)\n",
        "  pred_dict.append(metric)\n",
        "  return 1\n",
        "\n",
        "all_pred = cross_val_score(knn, x, y, cv=5, scoring= cscorer)\n",
        "\n",
        "\n",
        "for i in pred_dict:\n",
        "  print('5-fold cross validation accuracies are: ')\n",
        "  print(i)"
      ],
      "execution_count": 7,
      "outputs": [
        {
          "output_type": "stream",
          "text": [
            "5-fold cross validation accuracies are: \n",
            "              precision    recall  f1-score   support\n",
            "\n",
            "           0       0.00      0.00      0.00        22\n",
            "           1       0.00      0.00      0.00        23\n",
            "           2       0.80      0.94      0.86       174\n",
            "\n",
            "    accuracy                           0.74       219\n",
            "   macro avg       0.27      0.31      0.29       219\n",
            "weighted avg       0.63      0.74      0.68       219\n",
            "\n",
            "5-fold cross validation accuracies are: \n",
            "              precision    recall  f1-score   support\n",
            "\n",
            "           0       0.11      0.05      0.06        22\n",
            "           1       0.33      0.13      0.19        23\n",
            "           2       0.80      0.93      0.86       174\n",
            "\n",
            "    accuracy                           0.75       219\n",
            "   macro avg       0.42      0.37      0.37       219\n",
            "weighted avg       0.68      0.75      0.71       219\n",
            "\n",
            "5-fold cross validation accuracies are: \n",
            "              precision    recall  f1-score   support\n",
            "\n",
            "           0       0.00      0.00      0.00        22\n",
            "           1       0.25      0.08      0.12        24\n",
            "           2       0.79      0.91      0.85       173\n",
            "\n",
            "    accuracy                           0.73       219\n",
            "   macro avg       0.35      0.33      0.32       219\n",
            "weighted avg       0.65      0.73      0.68       219\n",
            "\n",
            "5-fold cross validation accuracies are: \n",
            "              precision    recall  f1-score   support\n",
            "\n",
            "           0       0.00      0.00      0.00        23\n",
            "           1       0.10      0.09      0.09        23\n",
            "           2       0.79      0.85      0.82       173\n",
            "\n",
            "    accuracy                           0.68       219\n",
            "   macro avg       0.30      0.31      0.30       219\n",
            "weighted avg       0.64      0.68      0.66       219\n",
            "\n",
            "5-fold cross validation accuracies are: \n",
            "              precision    recall  f1-score   support\n",
            "\n",
            "           0       0.00      0.00      0.00        23\n",
            "           1       0.08      0.04      0.06        23\n",
            "           2       0.79      0.90      0.84       173\n",
            "\n",
            "    accuracy                           0.71       219\n",
            "   macro avg       0.29      0.31      0.30       219\n",
            "weighted avg       0.63      0.71      0.67       219\n",
            "\n"
          ],
          "name": "stdout"
        }
      ]
    }
  ]
}
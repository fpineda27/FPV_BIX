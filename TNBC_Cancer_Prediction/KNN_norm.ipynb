{
  "nbformat": 4,
  "nbformat_minor": 0,
  "metadata": {
    "colab": {
      "name": "KNN_norm.ipynb",
      "provenance": [],
      "collapsed_sections": [],
      "machine_shape": "hm"
    },
    "kernelspec": {
      "name": "python3",
      "display_name": "Python 3"
    },
    "language_info": {
      "name": "python"
    }
  },
  "cells": [
    {
      "cell_type": "code",
      "metadata": {
        "colab": {
          "base_uri": "https://localhost:8080/"
        },
        "id": "FcS8eT3cJtYb",
        "outputId": "2705d279-b407-4c4c-d3c4-53b0d0695a4a"
      },
      "source": [
        "from google.colab import drive\n",
        "drive.mount('/content/drive')"
      ],
      "execution_count": 1,
      "outputs": [
        {
          "output_type": "stream",
          "text": [
            "Mounted at /content/drive\n"
          ],
          "name": "stdout"
        }
      ]
    },
    {
      "cell_type": "code",
      "metadata": {
        "id": "Lpx7b8NVI80W"
      },
      "source": [
        "import numpy as np\n",
        "import pandas as pd\n",
        "from sklearn import model_selection, metrics\n",
        "from sklearn.metrics import make_scorer, accuracy_score, precision_score, recall_score, f1_score\n",
        "from sklearn.model_selection import train_test_split, cross_val_score, cross_validate\n",
        "from sklearn.preprocessing import MinMaxScaler\n",
        "from sklearn.preprocessing import LabelEncoder\n",
        "from sklearn.neighbors import NearestNeighbors, KNeighborsClassifier\n",
        "from keras.models import load_model"
      ],
      "execution_count": 2,
      "outputs": []
    },
    {
      "cell_type": "code",
      "metadata": {
        "colab": {
          "base_uri": "https://localhost:8080/"
        },
        "id": "9HVV9GLhJEfX",
        "outputId": "d7211413-0bda-4e50-b46c-7f46a5c8ef69"
      },
      "source": [
        "#import CSV to be read as a pandas dataframe\n",
        "data = pd.read_csv('/content/drive/MyDrive/Preprocessed_BRCA_RNA_data_normalized.csv', header = 0)\n",
        "\n",
        "\n",
        "\n",
        "#encode categorical variables to numerical\n",
        "labelenc = LabelEncoder()\n",
        "data['Class'] = labelenc.fit_transform(data['Class'])\n",
        "data['Sample-id'] = labelenc.fit_transform(data['Sample-id'])\n",
        "\n",
        "print(data)\n",
        "\n",
        "#get labels from original data and use encoded data as x\n",
        "x = data\n",
        "y = data['Class']\n",
        "\n",
        "print(x.shape)\n",
        "print(y.shape)"
      ],
      "execution_count": 3,
      "outputs": [
        {
          "output_type": "stream",
          "text": [
            "      Sample-id  Class  ?|100130426  ...  ZZZ3|26009  psiTPTE22|387590  tAKR|389932\n",
            "0             0      2       0.0000  ...   1180.4565            1.7233       0.0000\n",
            "1             1      2       0.0000  ...    406.7428          926.5905       0.0000\n",
            "2             2      2       0.9066  ...    509.5195           35.3581       0.0000\n",
            "3             3      2       0.0000  ...    700.8688           66.6115       0.0000\n",
            "4             4      2       0.0000  ...    881.7021          187.2340       0.0000\n",
            "...         ...    ...          ...  ...         ...               ...          ...\n",
            "1090       1090      2       0.0000  ...    443.0869          724.9033       0.0000\n",
            "1091       1091      2       0.0000  ...    670.0787           98.4252       0.0000\n",
            "1092       1092      2       0.0000  ...    953.7081          235.2385       0.9447\n",
            "1093       1093      2       0.0000  ...    750.8288          238.9272       0.0000\n",
            "1094       1094      2       0.0000  ...    462.1140           20.8786       0.0000\n",
            "\n",
            "[1095 rows x 20533 columns]\n",
            "(1095, 20533)\n",
            "(1095,)\n"
          ],
          "name": "stdout"
        }
      ]
    },
    {
      "cell_type": "code",
      "metadata": {
        "colab": {
          "base_uri": "https://localhost:8080/"
        },
        "id": "YAg_Jl6vJ481",
        "outputId": "f68c7883-5520-4791-e46f-f22bba9b1486"
      },
      "source": [
        "#divide into train and test set\n",
        "x_train, x_test, y_train, y_test = train_test_split(x, y, test_size = 0.2)\n",
        "\n",
        "print(x_train.shape)\n",
        "print(x_test.shape)\n",
        "print(y_train.shape)\n",
        "print(y_test.shape)"
      ],
      "execution_count": 4,
      "outputs": [
        {
          "output_type": "stream",
          "text": [
            "(876, 20533)\n",
            "(219, 20533)\n",
            "(876,)\n",
            "(219,)\n"
          ],
          "name": "stdout"
        }
      ]
    },
    {
      "cell_type": "code",
      "metadata": {
        "id": "6wbV1HHfQQQ4"
      },
      "source": [
        "#scale data & normalize\n",
        "t = MinMaxScaler()\n",
        "t.fit(x_train)\n",
        "t.fit(x_test)\n",
        "\n",
        "x_train = t.transform(x_train)\n",
        "x_test = t.transform(x_test)"
      ],
      "execution_count": 5,
      "outputs": []
    },
    {
      "cell_type": "code",
      "metadata": {
        "id": "p2uAYRYBJL0B"
      },
      "source": [
        "#set classifier to vote of 3 neighbors, weighted by distance from k\n",
        "knn = KNeighborsClassifier(n_neighbors=5, weights='distance')\n"
      ],
      "execution_count": 6,
      "outputs": []
    },
    {
      "cell_type": "code",
      "metadata": {
        "colab": {
          "base_uri": "https://localhost:8080/"
        },
        "id": "HL-t1UCbaeSe",
        "outputId": "70ba83d8-cd59-4702-df78-9d2e45217687"
      },
      "source": [
        "#Gets validations stats iterated from every fold \n",
        "pred_dict = []\n",
        "def cscorer(clf, x, y):\n",
        "  y_pred = clf.predict(x)\n",
        "  metric = metrics.classification_report(y, y_pred)\n",
        "  pred_dict.append(metric)\n",
        "  return 1\n",
        "\n",
        "all_pred = cross_val_score(knn, x, y, cv=5, scoring= cscorer)\n",
        "\n",
        "\n",
        "for i in pred_dict:\n",
        "  print('5-fold cross validation accuracies are: ')\n",
        "  print(i)"
      ],
      "execution_count": 7,
      "outputs": [
        {
          "output_type": "stream",
          "text": [
            "5-fold cross validation accuracies are: \n",
            "              precision    recall  f1-score   support\n",
            "\n",
            "           0       0.85      1.00      0.92        22\n",
            "           1       0.65      0.57      0.60        23\n",
            "           2       0.95      0.94      0.95       174\n",
            "\n",
            "    accuracy                           0.91       219\n",
            "   macro avg       0.81      0.84      0.82       219\n",
            "weighted avg       0.91      0.91      0.91       219\n",
            "\n",
            "5-fold cross validation accuracies are: \n",
            "              precision    recall  f1-score   support\n",
            "\n",
            "           0       0.91      0.95      0.93        22\n",
            "           1       0.73      0.70      0.71        23\n",
            "           2       0.95      0.95      0.95       174\n",
            "\n",
            "    accuracy                           0.93       219\n",
            "   macro avg       0.86      0.87      0.87       219\n",
            "weighted avg       0.93      0.93      0.93       219\n",
            "\n",
            "5-fold cross validation accuracies are: \n",
            "              precision    recall  f1-score   support\n",
            "\n",
            "           0       0.79      1.00      0.88        22\n",
            "           1       0.72      0.54      0.62        24\n",
            "           2       0.94      0.94      0.94       173\n",
            "\n",
            "    accuracy                           0.90       219\n",
            "   macro avg       0.82      0.83      0.81       219\n",
            "weighted avg       0.90      0.90      0.90       219\n",
            "\n",
            "5-fold cross validation accuracies are: \n",
            "              precision    recall  f1-score   support\n",
            "\n",
            "           0       0.85      1.00      0.92        23\n",
            "           1       0.75      0.52      0.62        23\n",
            "           2       0.95      0.97      0.96       173\n",
            "\n",
            "    accuracy                           0.92       219\n",
            "   macro avg       0.85      0.83      0.83       219\n",
            "weighted avg       0.92      0.92      0.92       219\n",
            "\n",
            "5-fold cross validation accuracies are: \n",
            "              precision    recall  f1-score   support\n",
            "\n",
            "           0       0.88      0.91      0.89        23\n",
            "           1       0.55      0.48      0.51        23\n",
            "           2       0.93      0.94      0.93       173\n",
            "\n",
            "    accuracy                           0.89       219\n",
            "   macro avg       0.78      0.78      0.78       219\n",
            "weighted avg       0.88      0.89      0.88       219\n",
            "\n"
          ],
          "name": "stdout"
        }
      ]
    },
    {
      "cell_type": "code",
      "metadata": {
        "id": "K-mDtE9vjioa"
      },
      "source": [
        ""
      ],
      "execution_count": 7,
      "outputs": []
    }
  ]
}
{
 "cells": [
  {
   "cell_type": "markdown",
   "metadata": {},
   "source": [
    "# Accessing NCBI Database with Biopython\n",
    "\n",
    "Biopython allows the user to access NCBI data using Entrez, their data retrieval system. A web interface is also available at [ https://www.ncbi.nlm.nih.gov/search/](https://www.ncbi.nlm.nih.gov/search/)\n",
    "\n",
    "__Tips__\n",
    "- specify an email address with your query \n",
    "- avoid large number of requests (100+) during 9-5 M-F peak hours\n",
    "- do not post more than 3 queries per second (biopython will block excess)\n",
    "\n",
    "It's not only good citizenship, but you risk getting blocked if you over use NCBI's servers (a good reason to give a real email address, because NCBI may try to contact you)"
   ]
  },
  {
   "cell_type": "code",
   "execution_count": 1,
   "metadata": {},
   "outputs": [],
   "source": [
    "from Bio import Entrez, SeqIO\n",
    "import certifi\n",
    "\n",
    "Entrez.email = \"fortinopineda303@gmail.com\""
   ]
  },
  {
   "cell_type": "markdown",
   "metadata": {},
   "source": [
    "__Einfo:__ obtain a list of all database names available through Entrez"
   ]
  },
  {
   "cell_type": "code",
   "execution_count": 4,
   "metadata": {},
   "outputs": [
    {
     "name": "stdout",
     "output_type": "stream",
     "text": [
      "dict_keys(['DbList'])\n"
     ]
    }
   ],
   "source": [
    "# This returns a list of all available databases\n",
    "handle = Entrez.einfo()\n",
    "rec = Entrez.read(handle)\n",
    "handle.close()\n",
    "print(rec.keys())"
   ]
  },
  {
   "cell_type": "code",
   "execution_count": 5,
   "metadata": {},
   "outputs": [
    {
     "data": {
      "text/plain": [
       "['pubmed', 'protein', 'nuccore', 'ipg', 'nucleotide', 'structure', 'genome', 'annotinfo', 'assembly', 'bioproject', 'biosample', 'blastdbinfo', 'books', 'cdd', 'clinvar', 'gap', 'gapplus', 'grasp', 'dbvar', 'gene', 'gds', 'geoprofiles', 'medgen', 'mesh', 'nlmcatalog', 'omim', 'orgtrack', 'pmc', 'popset', 'proteinclusters', 'pcassay', 'protfam', 'pccompound', 'pcsubstance', 'seqannot', 'snp', 'sra', 'taxonomy', 'biocollections', 'gtr']"
      ]
     },
     "execution_count": 5,
     "metadata": {},
     "output_type": "execute_result"
    }
   ],
   "source": [
    "rec['DbList']"
   ]
  },
  {
   "cell_type": "markdown",
   "metadata": {},
   "source": [
    "# Accessing nucleotide database\n",
    "\n",
    "How to access such databases at the National Center for Biotechnology Information (NCBI). Not only discuss GenBank, but also other databases at NCBI. Many people refer (wrongly) to the whole set of NCBI databases as GenBank, but NCBI includes the nucleotide database and many others, for example, PubMed. Nucleotide database includes entry from GenBank, RefSeq, TPA, and PDB\n",
    "\n",
    "`eSearch`: to search the Entrez Databases\n",
    "\n",
    "Note: the return values are limited to 20, to override set the `retmax` to desired amount of records (up to 10,000)"
   ]
  },
  {
   "cell_type": "code",
   "execution_count": 7,
   "metadata": {},
   "outputs": [
    {
     "data": {
      "text/plain": [
       "'3081'"
      ]
     },
     "execution_count": 7,
     "metadata": {},
     "output_type": "execute_result"
    }
   ],
   "source": [
    "handle = Entrez.esearch(db=\"nucleotide\",term='CRT[Gene Name] AND \"Plasmodium falciparum\"[Organism]', retmax=40)\n",
    "rec_list = Entrez.read(handle)\n",
    "handle.close\n",
    "rec_list[\"Count\"]"
   ]
  },
  {
   "cell_type": "code",
   "execution_count": 8,
   "metadata": {},
   "outputs": [
    {
     "data": {
      "text/plain": [
       "40"
      ]
     },
     "execution_count": 8,
     "metadata": {},
     "output_type": "execute_result"
    }
   ],
   "source": [
    "len(rec_list[\"IdList\"]) #returns only list of Ids, use this ID to pull seqs"
   ]
  },
  {
   "cell_type": "code",
   "execution_count": 9,
   "metadata": {},
   "outputs": [
    {
     "data": {
      "text/plain": [
       "['2587918588', '2507817686', '2507817684', '2507817682', '2507817680', '2507817678', '2507817676', '2507817674', '2507817672', '2507817670', '2507817668', '2507817666', '2507817664', '2507817662', '2507817660', '2507817658', '2507817656', '2507817654', '2507817652', '2507817650', '2507817648', '2507817646', '2507817644', '2507817642', '2507817640', '2507817638', '2507817636', '2507817634', '2507817632', '2507817630', '2507817628', '2507817626', '2507817624', '2507817622', '2507817620', '2507817618', '2507817616', '2507817614', '2507817612', '2507817610']"
      ]
     },
     "execution_count": 9,
     "metadata": {},
     "output_type": "execute_result"
    }
   ],
   "source": [
    "rec_list[\"IdList\"]"
   ]
  },
  {
   "cell_type": "markdown",
   "metadata": {},
   "source": [
    "Now that we have IDs, we can use `eFetch` to access and download the full records\n",
    "\n",
    "To request a specific file format, add the following parameters to Bio.Entrez.efetch()\n",
    "- `rettype`: return type, can set for GenBank\n",
    "- `retmode`: \n",
    "- `gb` == Genbank, useful return to parse with SeqIO"
   ]
  },
  {
   "cell_type": "code",
   "execution_count": 10,
   "metadata": {},
   "outputs": [],
   "source": [
    "id_list = rec_list[\"IdList\"]\n",
    "handle = Entrez.efetch(db=\"nucleotide\", id=id_list, rettype=\"gb\")\n",
    "recs = list(SeqIO.parse(handle, \"gb\")) # saving to list saves multiple API calls\n",
    "handle.close()"
   ]
  },
  {
   "cell_type": "code",
   "execution_count": 11,
   "metadata": {},
   "outputs": [
    {
     "data": {
      "text/plain": [
       "[SeqRecord(seq=Seq('GGTGGAGGTTCTTGTCTTGGTAAATGTGCTCATGTGTTTAAACTTATTTTTAAA...AAA'), id='OR483864.1', name='OR483864', description='Plasmodium falciparum isolate PE-26 chloroquine resistance transporter (crt) gene, partial cds', dbxrefs=[]),\n",
       " SeqRecord(seq=Seq('TGTGCTCATGTGTTTAAACTTATTTTTAAAGAGATTAAGGATAATATTTTTATT...TTG'), id='OQ672451.1', name='OQ672451', description='Plasmodium falciparum isolate ML_14 chloroquine resistance transporter (crt) gene, partial cds', dbxrefs=[]),\n",
       " SeqRecord(seq=Seq('TGTGCTCATGTGTTTAAACTTATTTTTAAAGAGATTAAGGATAATATTTTTATT...TTG'), id='OQ672450.1', name='OQ672450', description='Plasmodium falciparum isolate ML_13 chloroquine resistance transporter (crt) gene, partial cds', dbxrefs=[]),\n",
       " SeqRecord(seq=Seq('TGTGCTCATGTGTTTAAACTTATTTTTAAAGAGATTAAGGATAATATTTTTATT...TTG'), id='OQ672449.1', name='OQ672449', description='Plasmodium falciparum isolate ML_12 chloroquine resistance transporter (crt) gene, partial cds', dbxrefs=[]),\n",
       " SeqRecord(seq=Seq('TGTGCTCATGTGTTTAAACTTATTTTTAAAGAGATTAAGGATAATATTTTTATT...TTG'), id='OQ672448.1', name='OQ672448', description='Plasmodium falciparum isolate ML_11 chloroquine resistance transporter (crt) gene, partial cds', dbxrefs=[]),\n",
       " SeqRecord(seq=Seq('TGTGCTCATGTGTTTAAACTTATTTTTAAAGAGATTAAGGATAATATTTTTATT...TTG'), id='OQ672447.1', name='OQ672447', description='Plasmodium falciparum isolate ML_10 chloroquine resistance transporter (crt) gene, partial cds', dbxrefs=[]),\n",
       " SeqRecord(seq=Seq('TGTGCTCATGTGTTTAAACTTATTTTTAAAGAGATTAAGGATAATATTTTTATT...TTG'), id='OQ672446.1', name='OQ672446', description='Plasmodium falciparum isolate ML_09 chloroquine resistance transporter (crt) gene, partial cds', dbxrefs=[]),\n",
       " SeqRecord(seq=Seq('TGTGCTCATGTGTTTAAACTTATTTTTAAAGAGATTAAGGATAATATTTTTATT...TTG'), id='OQ672445.1', name='OQ672445', description='Plasmodium falciparum isolate ML_08 chloroquine resistance transporter (crt) gene, partial cds', dbxrefs=[]),\n",
       " SeqRecord(seq=Seq('TGTGCTCATGTGTTTAAACTTATTTTTAAAGAGATTAAGGATAATATTTTTATT...TTG'), id='OQ672444.1', name='OQ672444', description='Plasmodium falciparum isolate ML_07 chloroquine resistance transporter (crt) gene, partial cds', dbxrefs=[]),\n",
       " SeqRecord(seq=Seq('TGTGCTCATGTGTTTAAACTTATTTTTAAAGAGATTAAGGATAATATTTTTATT...TTG'), id='OQ672443.1', name='OQ672443', description='Plasmodium falciparum isolate ML_06 chloroquine resistance transporter (crt) gene, partial cds', dbxrefs=[]),\n",
       " SeqRecord(seq=Seq('TGTGCTCATGTGTTTAAACTTATTTTTAAAGAGATTAAGGATAATATTTTTATT...TTG'), id='OQ672442.1', name='OQ672442', description='Plasmodium falciparum isolate ML_05 chloroquine resistance transporter (crt) gene, partial cds', dbxrefs=[]),\n",
       " SeqRecord(seq=Seq('TGTGCTCATGTGTTTAAACTTATTTTTAAAGAGATTAAGGATAATATTTTTATT...TTG'), id='OQ672441.1', name='OQ672441', description='Plasmodium falciparum isolate ML_04 chloroquine resistance transporter (crt) gene, partial cds', dbxrefs=[]),\n",
       " SeqRecord(seq=Seq('TGTGCTCATGTGTTTAAACTTATTTTTAAAGAGATTAAGGATAATATTTTTATT...TTG'), id='OQ672440.1', name='OQ672440', description='Plasmodium falciparum isolate ML_03 chloroquine resistance transporter (crt) gene, partial cds', dbxrefs=[]),\n",
       " SeqRecord(seq=Seq('TGTGCTCATGTGTTTAAACTTATTTTTAAAGAGATTAAGGATAATATTTTTATT...TTG'), id='OQ672439.1', name='OQ672439', description='Plasmodium falciparum isolate ML_02 chloroquine resistance transporter (crt) gene, partial cds', dbxrefs=[]),\n",
       " SeqRecord(seq=Seq('TGTGCTCATGTGTTTAAACTTATTTTTAAAGAGATTAAGGATAATATTTTTATT...TTG'), id='OQ672438.1', name='OQ672438', description='Plasmodium falciparum isolate ML_01 chloroquine resistance transporter (crt) gene, partial cds', dbxrefs=[]),\n",
       " SeqRecord(seq=Seq('TGTGCTCATGTGTTTAAACTTATTTTTAAAGAGATTAAGGATAATATTTTTATT...TTG'), id='OQ672437.1', name='OQ672437', description='Plasmodium falciparum isolate CZS_20 chloroquine resistance transporter (crt) gene, partial cds', dbxrefs=[]),\n",
       " SeqRecord(seq=Seq('TGTGCTCATGTGTTTAAACTTATTTTTAAAGAGATTAAGGATAATATTTTTATT...TTG'), id='OQ672436.1', name='OQ672436', description='Plasmodium falciparum isolate CZS_19 chloroquine resistance transporter (crt) gene, partial cds', dbxrefs=[]),\n",
       " SeqRecord(seq=Seq('TGTGCTCATGTGTTTAAACTTATTTTTAAAGAGATTAAGGATAATATTTTTATT...TTG'), id='OQ672435.1', name='OQ672435', description='Plasmodium falciparum isolate CZS_18 chloroquine resistance transporter (crt) gene, partial cds', dbxrefs=[]),\n",
       " SeqRecord(seq=Seq('TGTGCTCATGTGTTTAAACTTATTTTTAAAGAGATTAAGGATAATATTTTTATT...TTG'), id='OQ672434.1', name='OQ672434', description='Plasmodium falciparum isolate CZS_17 chloroquine resistance transporter (crt) gene, partial cds', dbxrefs=[]),\n",
       " SeqRecord(seq=Seq('TGTGCTCATGTGTTTAAACTTATTTTTAAAGAGATTAAGGATAATATTTTTATT...TTG'), id='OQ672433.1', name='OQ672433', description='Plasmodium falciparum isolate CZS_16 chloroquine resistance transporter (crt) gene, partial cds', dbxrefs=[]),\n",
       " SeqRecord(seq=Seq('TGTGCTCATGTGTTTAAACTTATTTTTAAAGAGATTAAGGATAATATTTTTATT...TTG'), id='OQ672432.1', name='OQ672432', description='Plasmodium falciparum isolate CZS_15 chloroquine resistance transporter (crt) gene, partial cds', dbxrefs=[]),\n",
       " SeqRecord(seq=Seq('TGTGCTCATGTGTTTAAACTTATTTTTAAAGAGATTAAGGATAATATTTTTATT...TTG'), id='OQ672431.1', name='OQ672431', description='Plasmodium falciparum isolate CZS_14 chloroquine resistance transporter (crt) gene, partial cds', dbxrefs=[]),\n",
       " SeqRecord(seq=Seq('TGTGCTCATGTGTTTAAACTTATTTTTAAAGAGATTAAGGATAATATTTTTATT...TTG'), id='OQ672430.1', name='OQ672430', description='Plasmodium falciparum isolate CZS_13 chloroquine resistance transporter (crt) gene, partial cds', dbxrefs=[]),\n",
       " SeqRecord(seq=Seq('TGTGCTCATGTGTTTAAACTTATTTTTAAAGAGATTAAGGATAATATTTTTATT...TTG'), id='OQ672429.1', name='OQ672429', description='Plasmodium falciparum isolate CZS_12 chloroquine resistance transporter (crt) gene, partial cds', dbxrefs=[]),\n",
       " SeqRecord(seq=Seq('TGTGCTCATGTGTTTAAACTTATTTTTAAAGAGATTAAGGATAATATTTTTATT...TTG'), id='OQ672428.1', name='OQ672428', description='Plasmodium falciparum isolate CZS_11 chloroquine resistance transporter (crt) gene, partial cds', dbxrefs=[]),\n",
       " SeqRecord(seq=Seq('TGTGCTCATGTGTTTAAACTTATTTTTAAAGAGATTAAGGATAATATTTTTATT...TTG'), id='OQ672427.1', name='OQ672427', description='Plasmodium falciparum isolate CZS_10 chloroquine resistance transporter (crt) gene, partial cds', dbxrefs=[]),\n",
       " SeqRecord(seq=Seq('TGTGCTCATGTGTTTAAACTTATTTTTAAAGAGATTAAGGATAATATTTTTATT...TTG'), id='OQ672426.1', name='OQ672426', description='Plasmodium falciparum isolate CZS_09 chloroquine resistance transporter (crt) gene, partial cds', dbxrefs=[]),\n",
       " SeqRecord(seq=Seq('TGTGCTCATGTGTTTAAACTTATTTTTAAAGAGATTAAGGATAATATTTTTATT...TTG'), id='OQ672425.1', name='OQ672425', description='Plasmodium falciparum isolate CZS_08 chloroquine resistance transporter (crt) gene, partial cds', dbxrefs=[]),\n",
       " SeqRecord(seq=Seq('TGTGCTCATGTGTTTAAACTTATTTTTAAAGAGATTAAGGATAATATTTTTATT...TTG'), id='OQ672424.1', name='OQ672424', description='Plasmodium falciparum isolate CZS_07 chloroquine resistance transporter (crt) gene, partial cds', dbxrefs=[]),\n",
       " SeqRecord(seq=Seq('TGTGCTCATGTGTTTAAACTTATTTTTAAAGAGATTAAGGATAATATTTTTATT...TTG'), id='OQ672423.1', name='OQ672423', description='Plasmodium falciparum isolate CZS_06 chloroquine resistance transporter (crt) gene, partial cds', dbxrefs=[]),\n",
       " SeqRecord(seq=Seq('TGTGCTCATGTGTTTAAACTTATTTTTAAAGAGATTAAGGATAATATTTTTATT...TTG'), id='OQ672422.1', name='OQ672422', description='Plasmodium falciparum isolate CZS_05 chloroquine resistance transporter (crt) gene, partial cds', dbxrefs=[]),\n",
       " SeqRecord(seq=Seq('TGTGCTCATGTGTTTAAACTTATTTTTAAAGAGATTAAGGATAATATTTTTATT...TTG'), id='OQ672421.1', name='OQ672421', description='Plasmodium falciparum isolate CZS_04 chloroquine resistance transporter (crt) gene, partial cds', dbxrefs=[]),\n",
       " SeqRecord(seq=Seq('TGTGCTCATGTGTTTAAACTTATTTTTAAAGAGATTAAGGATAATATTTTTATT...TTG'), id='OQ672420.1', name='OQ672420', description='Plasmodium falciparum isolate CZS_03 chloroquine resistance transporter (crt) gene, partial cds', dbxrefs=[]),\n",
       " SeqRecord(seq=Seq('TGTGCTCATGTGTTTAAACTTATTTTTAAAGAGATTAAGGATAATATTTTTATT...TTG'), id='OQ672419.1', name='OQ672419', description='Plasmodium falciparum isolate CZS_02 chloroquine resistance transporter (crt) gene, partial cds', dbxrefs=[]),\n",
       " SeqRecord(seq=Seq('TGTGCTCATGTGTTTAAACTTATTTTTAAAGAGATTAAGGATAATATTTTTATT...TTG'), id='OQ672418.1', name='OQ672418', description='Plasmodium falciparum isolate CZS_01 chloroquine resistance transporter (crt) gene, partial cds', dbxrefs=[]),\n",
       " SeqRecord(seq=Seq('TGTGCTCATGTGTTTAAACTTATTTTTAAAGAGATTAAGGATAATATTTTTATT...TTG'), id='OQ672417.1', name='OQ672417', description='Plasmodium falciparum isolate GJ_03 chloroquine resistance transporter (crt) gene, partial cds', dbxrefs=[]),\n",
       " SeqRecord(seq=Seq('TGTGCTCATGTGTTTAAACTTATTTTTAAAGAGATTAAGGATAATATTTTTATT...TTG'), id='OQ672416.1', name='OQ672416', description='Plasmodium falciparum isolate GJ_02 chloroquine resistance transporter (crt) gene, partial cds', dbxrefs=[]),\n",
       " SeqRecord(seq=Seq('TGTGCTCATGTGTTTAAACTTATTTTTAAAGAGATTAAGGATAATATTTTTATT...TTG'), id='OQ672415.1', name='OQ672415', description='Plasmodium falciparum isolate GJ_01 chloroquine resistance transporter (crt) gene, partial cds', dbxrefs=[]),\n",
       " SeqRecord(seq=Seq('TGTGCTCATGTGTTTAAACTTATTTTTAAAGAGATTAAGGATAATATTTTTATT...TTG'), id='OQ672414.1', name='OQ672414', description='Plasmodium falciparum isolate MAO_28 chloroquine resistance transporter (crt) gene, partial cds', dbxrefs=[]),\n",
       " SeqRecord(seq=Seq('TGTGCTCATGTGTTTAAACTTATTTTTAAAGAGATTAAGGATAATATTTTTATT...TTG'), id='OQ672413.1', name='OQ672413', description='Plasmodium falciparum isolate MAO_27 chloroquine resistance transporter (crt) gene, partial cds', dbxrefs=[])]"
      ]
     },
     "execution_count": 11,
     "metadata": {},
     "output_type": "execute_result"
    }
   ],
   "source": [
    "recs # be care with saving to list bc memory could be expended for large sequences"
   ]
  },
  {
   "cell_type": "code",
   "execution_count": 12,
   "metadata": {},
   "outputs": [
    {
     "name": "stdout",
     "output_type": "stream",
     "text": [
      "OQ672413\n",
      "Plasmodium falciparum isolate MAO_27 chloroquine resistance transporter (crt) gene, partial cds\n"
     ]
    }
   ],
   "source": [
    "for rec in recs:\n",
    "    if rec.name == \"KM288867\":\n",
    "        break\n",
    "print(rec.name)\n",
    "print(rec.description)"
   ]
  },
  {
   "cell_type": "code",
   "execution_count": 13,
   "metadata": {},
   "outputs": [
    {
     "name": "stdout",
     "output_type": "stream",
     "text": [
      "TGTGCTCATGTGTTTAAACTTATTTTTAAAGAGATTAAGGATAATATTTTTATTTATATTTTAAGTATTATTTATTTAAGTGTATCTGTAATGAATACAATTTTTGCTAAAAGAACTTTAAACAAAATTGGTAACTATAGTTTTG\n"
     ]
    }
   ],
   "source": [
    "print(rec.seq)"
   ]
  },
  {
   "cell_type": "code",
   "execution_count": null,
   "metadata": {},
   "outputs": [],
   "source": []
  }
 ],
 "metadata": {
  "kernelspec": {
   "display_name": "Python 3",
   "language": "python",
   "name": "python3"
  },
  "language_info": {
   "codemirror_mode": {
    "name": "ipython",
    "version": 3
   },
   "file_extension": ".py",
   "mimetype": "text/x-python",
   "name": "python",
   "nbconvert_exporter": "python",
   "pygments_lexer": "ipython3",
   "version": "3.8.0"
  }
 },
 "nbformat": 4,
 "nbformat_minor": 2
}

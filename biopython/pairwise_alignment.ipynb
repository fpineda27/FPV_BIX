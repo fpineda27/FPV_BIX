{
 "cells": [
  {
   "cell_type": "markdown",
   "metadata": {},
   "source": [
    "# Pairwise alignment \n",
    "\n",
    "Used to identify regions of similarity that may indicate functional, structural, and evolutionary relationship between two biological sequences (protein or nucleic acid)\n",
    "\n",
    "- identifying these similaries can be used to infer conserved sequences between species and genetic similarity or evolutionary divergence\n",
    "\n",
    "Pairwise alignment uses dynamic programming to find the optimal alignment between two sequences; scoring the similarity or distance then assessing the significance of this score "
   ]
  },
  {
   "cell_type": "markdown",
   "metadata": {},
   "source": [
    "__Types of pairwise alignment__\n",
    "1. _Global Alignment_: this finds the similarity of two sequences across the entire length of each sequence \n",
    "2. _Local Alignment_: this find the most similar subsequences among the two sequences\n",
    "\n",
    "__When doing alignments, one can specify ...__\n",
    "- Match Score: indicates the compatibility of two characters in the sequences. Highly compatible gives positive score and dissimilar gives negativ score \n",
    "- Gap penalties should give negative scores \n"
   ]
  },
  {
   "cell_type": "markdown",
   "metadata": {},
   "source": [
    "## Bio.pairwase2\n",
    "\n",
    "Biopython includes two pairwise aligners..\n",
    "\n",
    "1. `Bio.pairwise2` module \n",
    "2. PairwiseAligner class within the `Bio.Align` module (since Biopython v1.72)\n",
    "\n",
    "Both include global and local alignment -> focus on pairwise2\n",
    "\n",
    "The name of the alignment function for pairwise2 in this module follow the conventions `alignmenttypeXY` where `alignmenttype` is either \"global\" or \"local\". `XY` is a two character indicating the parameter it takes. \n",
    "- `X`: the parameters for matches\n",
    "- `Y`: indicates the parameters for gap penalties "
   ]
  },
  {
   "cell_type": "markdown",
   "metadata": {},
   "source": []
  },
  {
   "cell_type": "markdown",
   "metadata": {},
   "source": [
    "### Match Parameters\n",
    "\n",
    "1. `x`: no parameters, identical characters score 1, otherwise 0\n",
    "2. `m`: a match score is the score of identical chars, otherwise mismatch score. __Keywords: match, mismatch__\n",
    "3. `d`: a dictionary returns the score of any pair of characters __Keyword: match_dict__\n",
    "4. `c`: a callback function returns scores __Keyword: match_fn__"
   ]
  },
  {
   "cell_type": "markdown",
   "metadata": {},
   "source": []
  },
  {
   "cell_type": "markdown",
   "metadata": {},
   "source": [
    "### Gap penalty parameters\n",
    "\n",
    "1. `x`: No gap penalties\n",
    "2. `s`: same open and extend gap penalties for both sequences __Keywords: open, extend__\n",
    "3. `d`: sequences have different open and extend gap penalties __Keywords: openA, extendA, openB, extendB__\n",
    "4. `c`: a callback function returns the gap penalties __Keywords: gap_A_fn, gap_B_fn__"
   ]
  },
  {
   "cell_type": "code",
   "execution_count": 1,
   "metadata": {},
   "outputs": [
    {
     "name": "stdout",
     "output_type": "stream",
     "text": [
      "ACCGGT\n",
      "| | ||\n",
      "A-C-GT\n",
      "  Score=4\n",
      "\n",
      "ACCGGT\n",
      "||  ||\n",
      "AC--GT\n",
      "  Score=4\n",
      "\n",
      "ACCGGT\n",
      "| || |\n",
      "A-CG-T\n",
      "  Score=4\n",
      "\n",
      "ACCGGT\n",
      "|| | |\n",
      "AC-G-T\n",
      "  Score=4\n",
      "\n"
     ]
    },
    {
     "name": "stderr",
     "output_type": "stream",
     "text": [
      "/Library/Frameworks/Python.framework/Versions/3.8/lib/python3.8/site-packages/Bio/pairwise2.py:278: BiopythonDeprecationWarning: Bio.pairwise2 has been deprecated, and we intend to remove it in a future release of Biopython. As an alternative, please consider using Bio.Align.PairwiseAligner as a replacement, and contact the Biopython developers if you still need the Bio.pairwise2 module.\n",
      "  warnings.warn(\n"
     ]
    }
   ],
   "source": [
    "# Examples of global alignments \n",
    "from Bio import pairwise2\n",
    "\n",
    "# globalxx: matches score 1, mismatches 0 and no gap penalties\n",
    "alignments = pairwise2.align.globalxx(\"ACCGGT\", \"ACGT\") \n",
    "for alignment in alignments:\n",
    "    print(pairwise2.format_alignment(*alignment))\n"
   ]
  },
  {
   "cell_type": "code",
   "execution_count": 2,
   "metadata": {},
   "outputs": [
    {
     "name": "stdout",
     "output_type": "stream",
     "text": [
      "ACCGGT\n",
      "| | ||\n",
      "A-C-GT\n",
      "  Score=8\n",
      "\n",
      "ACCGGT\n",
      "||  ||\n",
      "AC--GT\n",
      "  Score=8\n",
      "\n",
      "ACCGGT\n",
      "| || |\n",
      "A-CG-T\n",
      "  Score=8\n",
      "\n",
      "ACCGGT\n",
      "|| | |\n",
      "AC-G-T\n",
      "  Score=8\n",
      "\n"
     ]
    }
   ],
   "source": [
    "# globalmx -- num matches score 2, mimatches -1. No gap penalty\n",
    "alignments = pairwise2.align.globalmx(\"ACCGGT\", \"ACGT\", match=2, mismatch=-1)\n",
    "for alignment in alignments:\n",
    "    print(pairwise2.format_alignment(*alignment))"
   ]
  },
  {
   "cell_type": "code",
   "execution_count": 3,
   "metadata": {},
   "outputs": [
    {
     "name": "stdout",
     "output_type": "stream",
     "text": [
      "ACCGGT\n",
      "||  ||\n",
      "AC--GT\n",
      "  Score=1\n",
      "\n"
     ]
    }
   ],
   "source": [
    "#globalxs -- matches score 1, mismatches 0, opening gap -2, extended gap -1\n",
    "alignments = pairwise2.align.globalxs (\"ACCGGT\", \"ACGT\", open=-2, extend=-1)\n",
    "for alignment in alignments:\n",
    "    print(pairwise2.format_alignment(*alignment))"
   ]
  },
  {
   "cell_type": "code",
   "execution_count": 4,
   "metadata": {},
   "outputs": [
    {
     "name": "stdout",
     "output_type": "stream",
     "text": [
      "KEVLA\n",
      " ||| \n",
      "-EVL-\n",
      "  Score=13\n",
      "\n"
     ]
    }
   ],
   "source": [
    "# globaldx -- matching/mismatching scores read from blosum2 matrix, no gap penalty\n",
    "from Bio.Align import substitution_matrices\n",
    "matrix = substitution_matrices.load(\"BLOSUM62\") # blosum62 scoring matric for seq alignment\n",
    "alignments = pairwise2.align.globaldx(\"KEVLA\", \"EVL\", match_dict=matrix)\n",
    "for alignment in alignments:\n",
    "    print(pairwise2.format_alignment(*alignment))"
   ]
  },
  {
   "cell_type": "code",
   "execution_count": 6,
   "metadata": {},
   "outputs": [
    {
     "name": "stdout",
     "output_type": "stream",
     "text": [
      "ACCCCCGT\n",
      "|    || \n",
      "A----CG-\n",
      "  Score=9.30685\n",
      "\n",
      "ACCCCCGT\n",
      "||    | \n",
      "AC----G-\n",
      "  Score=9.30685\n",
      "\n"
     ]
    }
   ],
   "source": [
    "# globalmc -- matches score 5, mismatches -4, gap penalty defined thru gap_function\n",
    "from math import log \n",
    "def gap_function(x, y): # x is gap position in seq, y is gap length\n",
    "    if y == 0: # no gap\n",
    "        return 0\n",
    "    elif y == 1: # gap open penalty\n",
    "        return -2\n",
    "    return - (2 + y/4.0 + log(y)/2.0)\n",
    "\n",
    "alignments = pairwise2.align.globalmc(\"ACCCCCGT\",\"ACG\", match=5, mismatch=-4,\n",
    "                                      gap_A_fn=gap_function, gap_B_fn=gap_function)\n",
    "for alignment in alignments:\n",
    "    print(pairwise2.format_alignment(*alignment))"
   ]
  },
  {
   "cell_type": "code",
   "execution_count": null,
   "metadata": {},
   "outputs": [],
   "source": []
  }
 ],
 "metadata": {
  "kernelspec": {
   "display_name": "Python 3",
   "language": "python",
   "name": "python3"
  },
  "language_info": {
   "codemirror_mode": {
    "name": "ipython",
    "version": 3
   },
   "file_extension": ".py",
   "mimetype": "text/x-python",
   "name": "python",
   "nbconvert_exporter": "python",
   "pygments_lexer": "ipython3",
   "version": "3.8.0"
  }
 },
 "nbformat": 4,
 "nbformat_minor": 2
}
